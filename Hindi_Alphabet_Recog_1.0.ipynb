{
 "cells": [
  {
   "cell_type": "markdown",
   "id": "b8f5152a-12e2-42d6-89e7-5dca0bf28af7",
   "metadata": {},
   "source": [
    "# Import Imp Libraries"
   ]
  },
  {
   "cell_type": "code",
   "execution_count": 2,
   "id": "66a7b5d3-5fbb-4dc1-a85f-3d1b2f3b5bfc",
   "metadata": {},
   "outputs": [],
   "source": [
    "import cv2\n",
    "import numpy as np\n",
    "import tensorflow as tf\n",
    "from tensorflow import keras\n",
    "import matplotlib.pyplot as plt\n"
   ]
  },
  {
   "cell_type": "markdown",
   "id": "3b9275c1-33bf-4967-94fe-cc2ab1fe6a41",
   "metadata": {},
   "source": [
    "# Load & Preprocess Data"
   ]
  },
  {
   "cell_type": "code",
   "execution_count": 3,
   "id": "6a642dcc-0044-4856-851e-e84484122b06",
   "metadata": {},
   "outputs": [
    {
     "name": "stdout",
     "output_type": "stream",
     "text": [
      "Found 62560 images belonging to 46 classes.\n",
      "Found 15640 images belonging to 46 classes.\n"
     ]
    }
   ],
   "source": [
    "from tensorflow.keras.preprocessing.image import ImageDataGenerator\n",
    "from tensorflow.keras.utils import to_categorical\n",
    "\n",
    "# Update this path\n",
    "dataset_path = \"Your Path of Dataset\"    \n",
    "\n",
    "\n",
    "datagen = ImageDataGenerator(validation_split=0.2, rescale=1.0/255)\n",
    "\n",
    "train_data = datagen.flow_from_directory(dataset_path, \n",
    "                                         target_size=(32, 32), \n",
    "                                         color_mode=\"grayscale\",\n",
    "                                         batch_size=64,\n",
    "                                         class_mode=\"categorical\",\n",
    "                                         subset=\"training\")\n",
    "\n",
    "val_data = datagen.flow_from_directory(dataset_path, \n",
    "                                       target_size=(32, 32), \n",
    "                                       color_mode=\"grayscale\",\n",
    "                                       batch_size=64,\n",
    "                                       class_mode=\"categorical\",\n",
    "                                       subset=\"validation\")\n"
   ]
  },
  {
   "cell_type": "markdown",
   "id": "f7c41e0b-f37f-4bd5-8d93-228ab258fafd",
   "metadata": {},
   "source": [
    "#  Use CNN Model"
   ]
  },
  {
   "cell_type": "code",
   "execution_count": 5,
   "id": "31a97cb0-e543-409a-9c2a-a73819dc4bd6",
   "metadata": {},
   "outputs": [],
   "source": [
    "model = keras.Sequential([\n",
    "    keras.layers.Conv2D(32, (3,3), activation='relu', input_shape=(32,32,1)),\n",
    "    keras.layers.MaxPooling2D(2,2),\n",
    "    keras.layers.Conv2D(64, (3,3), activation='relu'),\n",
    "    keras.layers.MaxPooling2D(2,2),\n",
    "    keras.layers.Flatten(),\n",
    "    keras.layers.Dense(128, activation='relu'),\n",
    "    keras.layers.Dense(46, activation='softmax')  # 46 Hindi characters\n",
    "])\n",
    "\n",
    "model.compile(optimizer='adam', loss='categorical_crossentropy', metrics=['accuracy'])\n"
   ]
  },
  {
   "cell_type": "markdown",
   "id": "e982b783-0ea7-4c05-93bd-d1d1a093d0c7",
   "metadata": {},
   "source": [
    "# Train Model and Save model in .h5 format"
   ]
  },
  {
   "cell_type": "code",
   "execution_count": 5,
   "id": "e3322973-f3c9-4c9d-b3b3-81573db848cd",
   "metadata": {},
   "outputs": [
    {
     "name": "stderr",
     "output_type": "stream",
     "text": [
      "C:\\Users\\Am\\AppData\\Local\\Programs\\Python\\Python311\\Lib\\site-packages\\keras\\src\\trainers\\data_adapters\\py_dataset_adapter.py:121: UserWarning: Your `PyDataset` class should call `super().__init__(**kwargs)` in its constructor. `**kwargs` can include `workers`, `use_multiprocessing`, `max_queue_size`. Do not pass these arguments to `fit()`, as they will be ignored.\n",
      "  self._warn_if_super_not_called()\n"
     ]
    },
    {
     "name": "stdout",
     "output_type": "stream",
     "text": [
      "Epoch 1/2\n",
      "\u001b[1m978/978\u001b[0m \u001b[32m━━━━━━━━━━━━━━━━━━━━\u001b[0m\u001b[37m\u001b[0m \u001b[1m893s\u001b[0m 907ms/step - accuracy: 0.6517 - loss: 1.2992 - val_accuracy: 0.8047 - val_loss: 0.6944\n",
      "Epoch 2/2\n",
      "\u001b[1m978/978\u001b[0m \u001b[32m━━━━━━━━━━━━━━━━━━━━\u001b[0m\u001b[37m\u001b[0m \u001b[1m81s\u001b[0m 82ms/step - accuracy: 0.9490 - loss: 0.1690 - val_accuracy: 0.8429 - val_loss: 0.6017\n"
     ]
    },
    {
     "name": "stderr",
     "output_type": "stream",
     "text": [
      "WARNING:absl:You are saving your model as an HDF5 file via `model.save()` or `keras.saving.save_model(model)`. This file format is considered legacy. We recommend using instead the native Keras format, e.g. `model.save('my_model.keras')` or `keras.saving.save_model(model, 'my_model.keras')`. \n"
     ]
    }
   ],
   "source": [
    "model.fit(train_data, validation_data=val_data, epochs=2)\n",
    "model.save(\"hindi_character_model.h5\")\n"
   ]
  },
  {
   "cell_type": "markdown",
   "id": "f656a7bb-2f33-4d4a-b5c5-081b8c2ba845",
   "metadata": {},
   "source": [
    "#  Real-time Character Prediction using OpenCV"
   ]
  },
  {
   "cell_type": "code",
   "execution_count": 6,
   "id": "5f0524c1-9584-4400-920a-b6e0fa305521",
   "metadata": {},
   "outputs": [
    {
     "name": "stderr",
     "output_type": "stream",
     "text": [
      "WARNING:absl:Compiled the loaded model, but the compiled metrics have yet to be built. `model.compile_metrics` will be empty until you train or evaluate the model.\n"
     ]
    },
    {
     "name": "stdout",
     "output_type": "stream",
     "text": [
      "\u001b[1m1/1\u001b[0m \u001b[32m━━━━━━━━━━━━━━━━━━━━\u001b[0m\u001b[37m\u001b[0m \u001b[1m0s\u001b[0m 170ms/step\n",
      "Predicted Character: ख\n"
     ]
    }
   ],
   "source": [
    "import cv2\n",
    "import numpy as np\n",
    "import tensorflow as tf\n",
    "from tensorflow import keras\n",
    "\n",
    "model = keras.models.load_model(\"hindi_character_model.h5\")\n",
    "\n",
    "# Load label mappings\n",
    "labels = {v: k for k, v in train_data.class_indices.items()}  \n",
    "\n",
    "# Create a blank black canvas\n",
    "canvas = np.zeros((400, 400), dtype=np.uint8)  # Black background\n",
    "drawing = False \n",
    "\n",
    "# Mouse callback function\n",
    "def draw(event, x, y, flags, param):\n",
    "    global drawing, canvas\n",
    "    if event == cv2.EVENT_LBUTTONDOWN:  # Start drawing\n",
    "        drawing = True\n",
    "    elif event == cv2.EVENT_MOUSEMOVE and drawing:  \n",
    "        cv2.circle(canvas, (x, y), 10, 255, -1)  \n",
    "    elif event == cv2.EVENT_LBUTTONUP:  # Stop drawing\n",
    "        drawing = False\n",
    "\n",
    "# Create window and set mouse callback\n",
    "cv2.namedWindow(\"Draw Hindi Character\")\n",
    "cv2.setMouseCallback(\"Draw Hindi Character\", draw)\n",
    "\n",
    "while True:\n",
    "    # Show drawing canvas\n",
    "    cv2.imshow(\"Draw Hindi Character\", canvas)\n",
    "\n",
    "    key = cv2.waitKey(1)\n",
    "\n",
    "    if key == ord('p'):  # Press 'p' to predict\n",
    "        roi = canvas.copy()\n",
    "        roi = cv2.resize(roi, (32, 32))  \n",
    "        roi = roi / 255.0  # Normalize\n",
    "        roi = np.reshape(roi, (1, 32, 32, 1))  \n",
    "\n",
    "        # Predict character\n",
    "        prediction = model.predict(roi)\n",
    "        predicted_label = labels[np.argmax(prediction)]\n",
    "\n",
    "        # Show result on the canvas\n",
    "        print(f'Predicted Character: {predicted_label}')\n",
    "        cv2.putText(canvas, f'Pred: {predicted_label}', (10, 30),\n",
    "                    cv2.FONT_HERSHEY_SIMPLEX, 1, 255, 2)  \n",
    "\n",
    "    elif key == ord('c'):  # Press 'c' to clear the canvas\n",
    "        canvas = np.zeros((400, 400), dtype=np.uint8)\n",
    "\n",
    "    elif key == ord('q'):  # Press 'q' to quit\n",
    "        break\n",
    "\n",
    "cv2.destroyAllWindows()\n"
   ]
  },
  {
   "cell_type": "markdown",
   "id": "108f57ba-995e-4c2e-bd98-04bfd3882d98",
   "metadata": {},
   "source": [
    "# NOTE :\n",
    "       1. Read all code carefully then execute code step by step.\n",
    "       2. After executing 1 code then read the comments carefully.\n",
    "       3. The most important part is to set the correct path; otherwise code will not execute.\n",
    "       4. Use a high-configuration Laptop or pc for better, faster execution.\n",
    "       5. Understand the code, do not copy/paste it.\n",
    "       "
   ]
  },
  {
   "cell_type": "code",
   "execution_count": null,
   "id": "f2b77d85-c5ac-4d01-b8de-2785bafa4207",
   "metadata": {},
   "outputs": [],
   "source": []
  }
 ],
 "metadata": {
  "kernelspec": {
   "display_name": "Python 3 (ipykernel)",
   "language": "python",
   "name": "python3"
  },
  "language_info": {
   "codemirror_mode": {
    "name": "ipython",
    "version": 3
   },
   "file_extension": ".py",
   "mimetype": "text/x-python",
   "name": "python",
   "nbconvert_exporter": "python",
   "pygments_lexer": "ipython3",
   "version": "3.11.9"
  }
 },
 "nbformat": 4,
 "nbformat_minor": 5
}
